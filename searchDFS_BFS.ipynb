{
  "nbformat": 4,
  "nbformat_minor": 0,
  "metadata": {
    "colab": {
      "name": "searchDFS_BFS.ipynb",
      "provenance": [],
      "collapsed_sections": [],
      "authorship_tag": "ABX9TyOuIQkQnekv69EMCvsG/WRz",
      "include_colab_link": true
    },
    "kernelspec": {
      "name": "python3",
      "display_name": "Python 3"
    },
    "language_info": {
      "name": "python"
    }
  },
  "cells": [
    {
      "cell_type": "markdown",
      "metadata": {
        "id": "view-in-github",
        "colab_type": "text"
      },
      "source": [
        "<a href=\"https://colab.research.google.com/github/chatmethar-comp/searchBFS_DFS/blob/main/searchDFS_BFS.ipynb\" target=\"_parent\"><img src=\"https://colab.research.google.com/assets/colab-badge.svg\" alt=\"Open In Colab\"/></a>"
      ]
    },
    {
      "cell_type": "code",
      "metadata": {
        "id": "rKT9Mwm7ywge"
      },
      "source": [
        "graph = {\n",
        "    'A' : ['B','C'],\n",
        "    'B' : ['D','E'],\n",
        "    'C' : ['F','G'],\n",
        "    'D' : [],\n",
        "    'E' : ['H'],\n",
        "    'F' : [],\n",
        "    'G' : ['I','J'],\n",
        "    'H' : [],\n",
        "    'I' : [],\n",
        "    'J' : []\n",
        "}"
      ],
      "execution_count": 1,
      "outputs": []
    },
    {
      "cell_type": "code",
      "metadata": {
        "colab": {
          "base_uri": "https://localhost:8080/"
        },
        "id": "GK_94-1jzjLK",
        "outputId": "e8af766c-7121-4856-af87-eb1ab49908da"
      },
      "source": [
        "visited = []\n",
        "queue = []\n",
        "def bfs(visited, graph, node):\n",
        "  visited.append(node)\n",
        "  queue.append(node)\n",
        "  while queue:\n",
        "    s = queue.pop(0)\n",
        "    # print(s,end=\"\\n\")\n",
        "    for neighbour in graph[s]:\n",
        "      if neighbour not in visited:\n",
        "        visited.append(neighbour)\n",
        "        queue.append(neighbour)\n",
        "        print('neighbour :',neighbour)\n",
        "        print('visited:',visited)\n",
        "    print('neighbour queue:',queue)\n",
        "\n",
        "bfs(visited, graph, 'A')\n"
      ],
      "execution_count": 2,
      "outputs": [
        {
          "output_type": "stream",
          "name": "stdout",
          "text": [
            "neighbour : B\n",
            "visited: ['A', 'B']\n",
            "neighbour : C\n",
            "visited: ['A', 'B', 'C']\n",
            "neighbour queue: ['B', 'C']\n",
            "neighbour : D\n",
            "visited: ['A', 'B', 'C', 'D']\n",
            "neighbour : E\n",
            "visited: ['A', 'B', 'C', 'D', 'E']\n",
            "neighbour queue: ['C', 'D', 'E']\n",
            "neighbour : F\n",
            "visited: ['A', 'B', 'C', 'D', 'E', 'F']\n",
            "neighbour : G\n",
            "visited: ['A', 'B', 'C', 'D', 'E', 'F', 'G']\n",
            "neighbour queue: ['D', 'E', 'F', 'G']\n",
            "neighbour queue: ['E', 'F', 'G']\n",
            "neighbour : H\n",
            "visited: ['A', 'B', 'C', 'D', 'E', 'F', 'G', 'H']\n",
            "neighbour queue: ['F', 'G', 'H']\n",
            "neighbour queue: ['G', 'H']\n",
            "neighbour : I\n",
            "visited: ['A', 'B', 'C', 'D', 'E', 'F', 'G', 'H', 'I']\n",
            "neighbour : J\n",
            "visited: ['A', 'B', 'C', 'D', 'E', 'F', 'G', 'H', 'I', 'J']\n",
            "neighbour queue: ['H', 'I', 'J']\n",
            "neighbour queue: ['I', 'J']\n",
            "neighbour queue: ['J']\n",
            "neighbour queue: []\n"
          ]
        }
      ]
    },
    {
      "cell_type": "code",
      "metadata": {
        "colab": {
          "base_uri": "https://localhost:8080/"
        },
        "id": "xQcq2tqn9JyT",
        "outputId": "6a3983ea-5413-40d4-e4cd-e1a51b803638"
      },
      "source": [
        "visited = set()\n",
        "\n",
        "def dfs(visited,graph,node):\n",
        "  print(visited)\n",
        "  if node not in visited:\n",
        "    print(node)\n",
        "    visited.add(node)\n",
        "    for neighbour in graph[node]:\n",
        "      dfs(visited,graph,neighbour)\n",
        "      \n",
        "\n",
        "dfs(visited,graph,'A')"
      ],
      "execution_count": 3,
      "outputs": [
        {
          "output_type": "stream",
          "name": "stdout",
          "text": [
            "set()\n",
            "A\n",
            "{'A'}\n",
            "B\n",
            "{'A', 'B'}\n",
            "D\n",
            "{'A', 'D', 'B'}\n",
            "E\n",
            "{'A', 'D', 'B', 'E'}\n",
            "H\n",
            "{'D', 'A', 'H', 'B', 'E'}\n",
            "C\n",
            "{'D', 'A', 'H', 'B', 'C', 'E'}\n",
            "F\n",
            "{'D', 'A', 'F', 'H', 'B', 'C', 'E'}\n",
            "G\n",
            "{'D', 'A', 'G', 'F', 'H', 'B', 'C', 'E'}\n",
            "I\n",
            "{'D', 'A', 'G', 'F', 'H', 'B', 'C', 'E', 'I'}\n",
            "J\n"
          ]
        }
      ]
    },
    {
      "cell_type": "code",
      "metadata": {
        "colab": {
          "base_uri": "https://localhost:8080/"
        },
        "id": "-6WT1fsqB3GY",
        "outputId": "9c3a59d6-70ee-47a7-85c2-e1e88d221dfe"
      },
      "source": [
        "visited = set()\n",
        "level = 0\n",
        "limited = 2\n",
        "def dls(visited,graph,node,level,limited):\n",
        "  if level <= limited:\n",
        "    print(visited)\n",
        "    if node not in visited:\n",
        "      visited.add(node)\n",
        "      for neighbour in graph[node]:\n",
        "        dls(visited,graph,neighbour,level+1,limited)\n",
        "        \n",
        "dls(visited,graph,'A',level,limited)"
      ],
      "execution_count": 4,
      "outputs": [
        {
          "output_type": "stream",
          "name": "stdout",
          "text": [
            "set()\n",
            "{'A'}\n",
            "{'A', 'B'}\n",
            "{'A', 'D', 'B'}\n",
            "{'A', 'D', 'B', 'E'}\n",
            "{'D', 'A', 'B', 'C', 'E'}\n",
            "{'D', 'A', 'F', 'B', 'C', 'E'}\n"
          ]
        }
      ]
    },
    {
      "cell_type": "code",
      "metadata": {
        "colab": {
          "base_uri": "https://localhost:8080/"
        },
        "id": "34xzpWCcEHoC",
        "outputId": "7ec47142-c811-4c1e-8d07-f0f543ed3e6d"
      },
      "source": [
        "visited = set()\n",
        "level = 0\n",
        "limited = 4\n",
        "def iddfs(visited,graph,node,level,limited):\n",
        "  for i in range(1,limited):\n",
        "    visited = set()\n",
        "    dls(visited,graph,node,level,i)\n",
        "    print(\"---------------------\")\n",
        "\n",
        "iddfs(visited,graph,'A',level,limited)"
      ],
      "execution_count": 5,
      "outputs": [
        {
          "output_type": "stream",
          "name": "stdout",
          "text": [
            "set()\n",
            "{'A'}\n",
            "{'A', 'B'}\n",
            "---------------------\n",
            "set()\n",
            "{'A'}\n",
            "{'A', 'B'}\n",
            "{'A', 'D', 'B'}\n",
            "{'A', 'D', 'B', 'E'}\n",
            "{'D', 'A', 'B', 'C', 'E'}\n",
            "{'D', 'A', 'F', 'B', 'C', 'E'}\n",
            "---------------------\n",
            "set()\n",
            "{'A'}\n",
            "{'A', 'B'}\n",
            "{'A', 'D', 'B'}\n",
            "{'A', 'D', 'B', 'E'}\n",
            "{'D', 'A', 'H', 'B', 'E'}\n",
            "{'D', 'A', 'H', 'B', 'C', 'E'}\n",
            "{'D', 'A', 'F', 'H', 'B', 'C', 'E'}\n",
            "{'D', 'A', 'G', 'F', 'H', 'B', 'C', 'E'}\n",
            "{'D', 'A', 'G', 'F', 'H', 'B', 'C', 'E', 'I'}\n",
            "---------------------\n"
          ]
        }
      ]
    }
  ]
}